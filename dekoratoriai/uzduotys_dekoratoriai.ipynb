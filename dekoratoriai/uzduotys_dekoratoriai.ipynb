{
 "cells": [
  {
   "cell_type": "code",
   "execution_count": null,
   "metadata": {},
   "outputs": [],
   "source": [
    "# 1 UZDUOTIS\n",
    "#Parašykite dekoratorių kuris riboja parametrų kiekį (tarkime, ne daugiau negu 2 parametrai funkcijai)\n",
    "#1.5 Parašykite dekoratorių, kuris atideda funkcijos vykdymą 3s"
   ]
  },
  {
   "cell_type": "code",
   "execution_count": 4,
   "metadata": {},
   "outputs": [],
   "source": [
    "from time import sleep\n",
    "from functools import wraps\n",
    "\n",
    "def uzvelavimas(sekundes):\n",
    "    def uzvelavimas(fn):\n",
    "        @wraps(fn)\n",
    "        def wrapper(*args, **kwargs):\n",
    "            print(f\"Funkcija bus atideta {sekundes} sekundems\")\n",
    "            sleep(sekundes)\n",
    "            return fn(*args, **kwargs)\n",
    "        return wrapper\n",
    "    return uzvelavimas"
   ]
  },
  {
   "cell_type": "code",
   "execution_count": 3,
   "metadata": {},
   "outputs": [],
   "source": [
    "def args_counter(fn):\n",
    "    @wraps(fn)\n",
    "    def wrapper(*args, **kwargs):\n",
    "        if len > 2:\n",
    "            return \"Perdaug duomenu\"\n",
    "        return fn(*args, **kwargs)\n",
    "    return wrapper"
   ]
  },
  {
   "cell_type": "code",
   "execution_count": null,
   "metadata": {},
   "outputs": [],
   "source": [
    "# 2 UZDUOTIS\n",
    "# Parašykite dekoratorių, kuris leidžia į funkciją įrašyti tik string tipo parametrus."
   ]
  },
  {
   "cell_type": "code",
   "execution_count": 2,
   "metadata": {},
   "outputs": [],
   "source": [
    "def grazinti_tik_stringus(fn):\n",
    "    def wrapper(text):\n",
    "        if type(text) != str:\n",
    "            raise ValueError(\"Text must be string\")\n",
    "        result_text = fn(text)\n",
    "        return result_text\n",
    "    return wrapper"
   ]
  }
 ],
 "metadata": {
  "kernelspec": {
   "display_name": "venv",
   "language": "python",
   "name": "python3"
  },
  "language_info": {
   "codemirror_mode": {
    "name": "ipython",
    "version": 3
   },
   "file_extension": ".py",
   "mimetype": "text/x-python",
   "name": "python",
   "nbconvert_exporter": "python",
   "pygments_lexer": "ipython3",
   "version": "3.10.9"
  },
  "orig_nbformat": 4,
  "vscode": {
   "interpreter": {
    "hash": "08bae27fbc2065aa25fe2108e354d6045754cf7d7a8f1b5967b220349239ef2b"
   }
  }
 },
 "nbformat": 4,
 "nbformat_minor": 2
}
