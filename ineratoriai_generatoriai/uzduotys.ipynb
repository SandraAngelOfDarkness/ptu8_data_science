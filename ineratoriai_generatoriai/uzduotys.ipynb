{
 "cells": [
  {
   "cell_type": "code",
   "execution_count": null,
   "metadata": {},
   "outputs": [],
   "source": [
    "# 1 UZDUOTIS\n",
    "#Parašykite generatorių, kuris kaskartą inicijuotas su funkcija next grąžintų sekantį porinį skaičių. \n",
    "# Pirmas sk. 2, toliau 4 ir taip be pabaigos."
   ]
  },
  {
   "cell_type": "code",
   "execution_count": 4,
   "metadata": {},
   "outputs": [],
   "source": [
    "def sekantis():\n",
    "    skaicius = 2\n",
    "    while True:\n",
    "        yield skaicius\n",
    "        skaicius += 2"
   ]
  },
  {
   "cell_type": "code",
   "execution_count": null,
   "metadata": {},
   "outputs": [],
   "source": [
    "#2 UZDUOTIS\n",
    "#Parašykite generatorių , kuris kas kartą generuotų po vieną Fibonačio sekos skaičių. \n",
    "# (Seka prasideda šiais skaičiais: 0, 1, 1, 2, 3, 5, 8, 13, 21, 34, 55, 89, 144, 233. \n",
    "# Kiekvienas šios sekos skaičius lygus dviejų prieš jį einančių skaičių sumai, daugiau google:)"
   ]
  },
  {
   "cell_type": "code",
   "execution_count": 1,
   "metadata": {},
   "outputs": [],
   "source": [
    "def fibo_skaicius():\n",
    "    a = 0\n",
    "    b = 1\n",
    "    while True:\n",
    "        yield a, b\n",
    "        a, b = b, a +b"
   ]
  },
  {
   "cell_type": "code",
   "execution_count": null,
   "metadata": {},
   "outputs": [],
   "source": [
    "# Įsivaizduokite, kad reikia nulaužti 4 skaitmenų pin kodą. \n",
    "# Parašykite generatorių, kuris tikrins po viena kombinaciją, pradedant 0000, ir sustos, kai pin kodas bus teisingas. \n",
    "# Pradėkite programą nuo (pvz.) PIN = '0549' ir rašykite toliau. \n",
    "# Pabaigus funkciją, praiteruokite sukurtą generatorių su for ciklu, kad spausdintų skaičiukus iš eilės ir atspausdinus paskutinį, \n",
    "# parašytų 'PIN is XXXX(jųsų pin'as)'. Atkreipkite dėmesį, kad kodas gali prasidėti nuliu. Sugalvokite, kaip apeiti šią problemą :)."
   ]
  },
  {
   "cell_type": "code",
   "execution_count": 2,
   "metadata": {},
   "outputs": [],
   "source": [
    "pinas = '0001'\n",
    "def atspeti_koda():\n",
    "    skaicius = 0\n",
    "    while skaicius < 10000:\n",
    "        spejimas = f\"{skaicius:0549}\"\n",
    "        if spejimas == pinas:\n",
    "            print (f\"{spejimas} atspetas skaicius\")\n",
    "            break\n",
    "        yield spejimas\n",
    "        skaicius += 1"
   ]
  }
 ],
 "metadata": {
  "kernelspec": {
   "display_name": "venv",
   "language": "python",
   "name": "python3"
  },
  "language_info": {
   "codemirror_mode": {
    "name": "ipython",
    "version": 3
   },
   "file_extension": ".py",
   "mimetype": "text/x-python",
   "name": "python",
   "nbconvert_exporter": "python",
   "pygments_lexer": "ipython3",
   "version": "3.10.9"
  },
  "orig_nbformat": 4,
  "vscode": {
   "interpreter": {
    "hash": "08bae27fbc2065aa25fe2108e354d6045754cf7d7a8f1b5967b220349239ef2b"
   }
  }
 },
 "nbformat": 4,
 "nbformat_minor": 2
}
