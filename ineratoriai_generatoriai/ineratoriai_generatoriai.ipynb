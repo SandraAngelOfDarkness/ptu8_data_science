{
 "cells": [
  {
   "cell_type": "code",
   "execution_count": 4,
   "metadata": {},
   "outputs": [
    {
     "data": {
      "text/plain": [
       "<str_iterator at 0x1fa7a0c1cf0>"
      ]
     },
     "execution_count": 4,
     "metadata": {},
     "output_type": "execute_result"
    }
   ],
   "source": [
    "iteratorius = iter(\"irasas\")\n",
    "iteratorius"
   ]
  },
  {
   "cell_type": "code",
   "execution_count": null,
   "metadata": {},
   "outputs": [],
   "source": []
  },
  {
   "cell_type": "code",
   "execution_count": 2,
   "metadata": {},
   "outputs": [
    {
     "name": "stdout",
     "output_type": "stream",
     "text": [
      "i\n",
      "r\n",
      "a\n",
      "s\n",
      "a\n",
      "s\n"
     ]
    }
   ],
   "source": [
    "print(next(iteratorius))\n",
    "print(next(iteratorius))\n",
    "print(next(iteratorius))\n",
    "print(next(iteratorius))\n",
    "print(next(iteratorius))\n",
    "print(next(iteratorius))"
   ]
  },
  {
   "cell_type": "code",
   "execution_count": 5,
   "metadata": {},
   "outputs": [
    {
     "name": "stdout",
     "output_type": "stream",
     "text": [
      "i\n",
      "r\n",
      "a\n",
      "s\n",
      "a\n",
      "s\n"
     ]
    }
   ],
   "source": [
    "for raide in iteratorius:\n",
    "    print(raide)"
   ]
  },
  {
   "cell_type": "code",
   "execution_count": 6,
   "metadata": {},
   "outputs": [],
   "source": [
    "skaiciai = [2, 3, 4, 5, 7, 9, 11]"
   ]
  },
  {
   "cell_type": "code",
   "execution_count": 14,
   "metadata": {},
   "outputs": [],
   "source": [
    "def kubu(skaicius):\n",
    "    print(skaicius ** 3)"
   ]
  },
  {
   "cell_type": "code",
   "execution_count": 15,
   "metadata": {},
   "outputs": [
    {
     "name": "stdout",
     "output_type": "stream",
     "text": [
      "8\n",
      "None\n",
      "27\n",
      "None\n",
      "64\n",
      "None\n",
      "125\n",
      "None\n",
      "343\n",
      "None\n",
      "729\n",
      "None\n",
      "1331\n",
      "None\n"
     ]
    }
   ],
   "source": [
    "sk_iter = iter(skaiciai)\n",
    "while True:\n",
    "    try:\n",
    "        skaicius = next(sk_iter)\n",
    "    except StopIteration:\n",
    "        break\n",
    "    else:\n",
    "        print(kubu(skaicius))"
   ]
  },
  {
   "cell_type": "code",
   "execution_count": 16,
   "metadata": {},
   "outputs": [],
   "source": [
    "def iteruoklis(objektas, funkcija):\n",
    "    iteratorius = iter(objektas)\n",
    "    while True:\n",
    "        try:\n",
    "            zingsnis = next(iteratorius)\n",
    "        except StopIteration:\n",
    "            break\n",
    "        else:\n",
    "            funkcija(zingsnis)"
   ]
  },
  {
   "cell_type": "code",
   "execution_count": 17,
   "metadata": {},
   "outputs": [
    {
     "name": "stdout",
     "output_type": "stream",
     "text": [
      "8\n",
      "27\n",
      "64\n",
      "125\n",
      "343\n",
      "729\n",
      "1331\n"
     ]
    }
   ],
   "source": [
    "#iteruoklis(skaiciai, print)\n",
    "iteruoklis(skaiciai, kubu)"
   ]
  },
  {
   "cell_type": "code",
   "execution_count": 18,
   "metadata": {},
   "outputs": [
    {
     "name": "stdout",
     "output_type": "stream",
     "text": [
      "Gyveno\n",
      "karta\n",
      "senukas\n",
      "ir\n",
      "bobute\n"
     ]
    }
   ],
   "source": [
    "zodziai = \"Gyveno karta senukas ir bobute\".split()\n",
    "iteruoklis(zodziai, print)"
   ]
  },
  {
   "attachments": {},
   "cell_type": "markdown",
   "metadata": {},
   "source": [
    "## Generatoriai"
   ]
  },
  {
   "cell_type": "code",
   "execution_count": 19,
   "metadata": {},
   "outputs": [],
   "source": [
    "def skaiciuoti_iki(iki):\n",
    "    count = 1\n",
    "    while count <= iki:\n",
    "        yield count\n",
    "        count += 1"
   ]
  },
  {
   "cell_type": "code",
   "execution_count": 23,
   "metadata": {},
   "outputs": [],
   "source": [
    "counter = skaiciuoti_iki(5)"
   ]
  },
  {
   "cell_type": "code",
   "execution_count": 21,
   "metadata": {},
   "outputs": [
    {
     "name": "stdout",
     "output_type": "stream",
     "text": [
      "1\n"
     ]
    }
   ],
   "source": [
    "print(next(counter))"
   ]
  },
  {
   "cell_type": "code",
   "execution_count": 24,
   "metadata": {},
   "outputs": [
    {
     "name": "stdout",
     "output_type": "stream",
     "text": [
      "[1, 2, 3, 4, 5]\n"
     ]
    }
   ],
   "source": [
    "print(list(counter))"
   ]
  },
  {
   "cell_type": "code",
   "execution_count": 25,
   "metadata": {},
   "outputs": [],
   "source": [
    "def imtis(nuo, iki, zingsnis=1):\n",
    "    while nuo < iki:\n",
    "        yield nuo\n",
    "        nuo += zingsnis"
   ]
  },
  {
   "cell_type": "code",
   "execution_count": 26,
   "metadata": {},
   "outputs": [
    {
     "name": "stdout",
     "output_type": "stream",
     "text": [
      "10\n",
      "12\n",
      "14\n",
      "16\n",
      "18\n",
      "20\n"
     ]
    }
   ],
   "source": [
    "for skaicius in range(10, 21, 2):\n",
    "    print(skaicius)"
   ]
  },
  {
   "cell_type": "code",
   "execution_count": 27,
   "metadata": {},
   "outputs": [
    {
     "name": "stdout",
     "output_type": "stream",
     "text": [
      "1\n",
      "2\n",
      "3\n",
      "4\n",
      "5\n",
      "6\n",
      "7\n",
      "8\n",
      "9\n",
      "10\n"
     ]
    }
   ],
   "source": [
    "for skaicius in skaiciuoti_iki(10):\n",
    "    print(skaicius)"
   ]
  },
  {
   "cell_type": "code",
   "execution_count": 28,
   "metadata": {},
   "outputs": [],
   "source": [
    "from random import randint\n",
    "atsitiktiniai = (randint(0, 99) for _ in range(10))"
   ]
  },
  {
   "cell_type": "code",
   "execution_count": 32,
   "metadata": {},
   "outputs": [
    {
     "name": "stdout",
     "output_type": "stream",
     "text": [
      "<generator object <genexpr> at 0x000001FA7A1460A0>\n"
     ]
    }
   ],
   "source": [
    "print(atsitiktiniai)"
   ]
  },
  {
   "cell_type": "code",
   "execution_count": 30,
   "metadata": {},
   "outputs": [
    {
     "name": "stdout",
     "output_type": "stream",
     "text": [
      "18\n"
     ]
    }
   ],
   "source": [
    "print(next(atsitiktiniai))"
   ]
  },
  {
   "cell_type": "code",
   "execution_count": 31,
   "metadata": {},
   "outputs": [
    {
     "name": "stdout",
     "output_type": "stream",
     "text": [
      "[20, 1, 26, 7, 14, 67, 93, 48]\n"
     ]
    }
   ],
   "source": [
    "print(list(atsitiktiniai))"
   ]
  }
 ],
 "metadata": {
  "kernelspec": {
   "display_name": "venv",
   "language": "python",
   "name": "python3"
  },
  "language_info": {
   "codemirror_mode": {
    "name": "ipython",
    "version": 3
   },
   "file_extension": ".py",
   "mimetype": "text/x-python",
   "name": "python",
   "nbconvert_exporter": "python",
   "pygments_lexer": "ipython3",
   "version": "3.10.9"
  },
  "orig_nbformat": 4,
  "vscode": {
   "interpreter": {
    "hash": "08bae27fbc2065aa25fe2108e354d6045754cf7d7a8f1b5967b220349239ef2b"
   }
  }
 },
 "nbformat": 4,
 "nbformat_minor": 2
}
