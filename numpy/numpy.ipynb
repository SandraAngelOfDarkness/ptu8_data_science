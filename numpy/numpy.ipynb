{
 "cells": [
  {
   "attachments": {},
   "cell_type": "markdown",
   "metadata": {},
   "source": [
    "### Masyvai ir matricos"
   ]
  },
  {
   "cell_type": "code",
   "execution_count": 1,
   "metadata": {},
   "outputs": [],
   "source": [
    "import numpy as np"
   ]
  },
  {
   "cell_type": "code",
   "execution_count": 4,
   "metadata": {},
   "outputs": [],
   "source": [
    "sarasas = [4, 7, 11, 6, 9, 69, 420, 777, 31]"
   ]
  },
  {
   "cell_type": "code",
   "execution_count": 5,
   "metadata": {},
   "outputs": [
    {
     "name": "stdout",
     "output_type": "stream",
     "text": [
      "[  4   7  11   6   9  69 420 777  31] <class 'numpy.ndarray'>\n"
     ]
    }
   ],
   "source": [
    "masyvas = np.array(sarasas)\n",
    "print(masyvas, type(masyvas))"
   ]
  },
  {
   "cell_type": "code",
   "execution_count": 12,
   "metadata": {},
   "outputs": [],
   "source": [
    "sugrupuotas = [[4, 7, 11], [6, 9, 69], [420, 777, 31]]"
   ]
  },
  {
   "cell_type": "code",
   "execution_count": 13,
   "metadata": {},
   "outputs": [
    {
     "name": "stdout",
     "output_type": "stream",
     "text": [
      "[[  4   7  11]\n",
      " [  6   9  69]\n",
      " [420 777  31]]\n"
     ]
    }
   ],
   "source": [
    "matrica = np.array(sugrupuotas)\n",
    "print(matrica)"
   ]
  },
  {
   "cell_type": "code",
   "execution_count": 15,
   "metadata": {},
   "outputs": [
    {
     "name": "stdout",
     "output_type": "stream",
     "text": [
      "[ 8 11 14 17 20 23 26 29] <class 'numpy.ndarray'>\n"
     ]
    }
   ],
   "source": [
    "imtis = np.arange(8, 30, 3)\n",
    "print(imtis, type(imtis))"
   ]
  },
  {
   "cell_type": "code",
   "execution_count": 16,
   "metadata": {},
   "outputs": [
    {
     "name": "stdout",
     "output_type": "stream",
     "text": [
      "[0. 0. 0. 0. 0. 0. 0. 0. 0. 0.]\n"
     ]
    }
   ],
   "source": [
    "nuliai = np.zeros(10)\n",
    "print(nuliai)"
   ]
  },
  {
   "cell_type": "code",
   "execution_count": 17,
   "metadata": {},
   "outputs": [
    {
     "data": {
      "text/plain": [
       "array([[0., 0., 0., 0., 0., 0.],\n",
       "       [0., 0., 0., 0., 0., 0.],\n",
       "       [0., 0., 0., 0., 0., 0.],\n",
       "       [0., 0., 0., 0., 0., 0.],\n",
       "       [0., 0., 0., 0., 0., 0.],\n",
       "       [0., 0., 0., 0., 0., 0.]])"
      ]
     },
     "execution_count": 17,
     "metadata": {},
     "output_type": "execute_result"
    }
   ],
   "source": [
    "nuliai_6x6 = np.zeros((6, 6))\n",
    "nuliai_6x6"
   ]
  },
  {
   "cell_type": "code",
   "execution_count": 18,
   "metadata": {},
   "outputs": [
    {
     "data": {
      "text/plain": [
       "array([[1., 0., 0., 0., 0., 0.],\n",
       "       [0., 1., 0., 0., 0., 0.],\n",
       "       [0., 0., 1., 0., 0., 0.],\n",
       "       [0., 0., 0., 1., 0., 0.],\n",
       "       [0., 0., 0., 0., 1., 0.],\n",
       "       [0., 0., 0., 0., 0., 1.]])"
      ]
     },
     "execution_count": 18,
     "metadata": {},
     "output_type": "execute_result"
    }
   ],
   "source": [
    "akis = np.eye(6)\n",
    "akis"
   ]
  },
  {
   "cell_type": "code",
   "execution_count": 21,
   "metadata": {},
   "outputs": [],
   "source": [
    "akis[0][1] = 3\n",
    "akis[1][0] = 2"
   ]
  },
  {
   "cell_type": "code",
   "execution_count": 22,
   "metadata": {},
   "outputs": [
    {
     "data": {
      "text/plain": [
       "array([[1., 3., 0., 0., 0., 0.],\n",
       "       [2., 1., 0., 0., 0., 0.],\n",
       "       [0., 0., 1., 0., 0., 0.],\n",
       "       [0., 0., 0., 1., 0., 0.],\n",
       "       [0., 0., 0., 0., 1., 0.],\n",
       "       [0., 0., 0., 0., 0., 1.]])"
      ]
     },
     "execution_count": 22,
     "metadata": {},
     "output_type": "execute_result"
    }
   ],
   "source": [
    "akis"
   ]
  },
  {
   "cell_type": "code",
   "execution_count": 25,
   "metadata": {},
   "outputs": [
    {
     "data": {
      "text/plain": [
       "array([ 0. ,  2.5,  5. ,  7.5, 10. ])"
      ]
     },
     "execution_count": 25,
     "metadata": {},
     "output_type": "execute_result"
    }
   ],
   "source": [
    "np.linspace(0, 10, 5)"
   ]
  },
  {
   "cell_type": "code",
   "execution_count": 26,
   "metadata": {},
   "outputs": [
    {
     "data": {
      "text/plain": [
       "array([0. , 0.5, 1. ])"
      ]
     },
     "execution_count": 26,
     "metadata": {},
     "output_type": "execute_result"
    }
   ],
   "source": [
    "np.linspace(0, 1, 3)"
   ]
  },
  {
   "cell_type": "code",
   "execution_count": 27,
   "metadata": {},
   "outputs": [
    {
     "data": {
      "text/plain": [
       "array([0.        , 0.33333333, 0.66666667, 1.        ])"
      ]
     },
     "execution_count": 27,
     "metadata": {},
     "output_type": "execute_result"
    }
   ],
   "source": [
    "np.linspace(0, 1, 4)"
   ]
  },
  {
   "cell_type": "code",
   "execution_count": 28,
   "metadata": {},
   "outputs": [
    {
     "data": {
      "text/plain": [
       "array([ 0.        ,  3.33333333,  6.66666667, 10.        ])"
      ]
     },
     "execution_count": 28,
     "metadata": {},
     "output_type": "execute_result"
    }
   ],
   "source": [
    "np.linspace(0, 10, 4)"
   ]
  },
  {
   "attachments": {},
   "cell_type": "markdown",
   "metadata": {},
   "source": [
    "### Random arrays"
   ]
  },
  {
   "cell_type": "code",
   "execution_count": 29,
   "metadata": {},
   "outputs": [
    {
     "data": {
      "text/plain": [
       "array([0.09716288, 0.63866266, 0.20209719, 0.43181477, 0.12863134,\n",
       "       0.36812085, 0.34458931, 0.01488635, 0.93703929, 0.89751861])"
      ]
     },
     "execution_count": 29,
     "metadata": {},
     "output_type": "execute_result"
    }
   ],
   "source": [
    "np.random.rand(10)"
   ]
  },
  {
   "cell_type": "code",
   "execution_count": 30,
   "metadata": {},
   "outputs": [
    {
     "data": {
      "text/plain": [
       "array([[0.29049641, 0.98730751, 0.97501148, 0.65451445, 0.63093389],\n",
       "       [0.26342077, 0.63964653, 0.11017875, 0.46178912, 0.53139601],\n",
       "       [0.69621914, 0.88098023, 0.78353471, 0.81383135, 0.92758863],\n",
       "       [0.13313635, 0.50257899, 0.29631714, 0.19943429, 0.80410446],\n",
       "       [0.39741363, 0.46537981, 0.07123037, 0.48898799, 0.19585027]])"
      ]
     },
     "execution_count": 30,
     "metadata": {},
     "output_type": "execute_result"
    }
   ],
   "source": [
    "np.random.rand(5, 5)"
   ]
  },
  {
   "cell_type": "code",
   "execution_count": 32,
   "metadata": {},
   "outputs": [
    {
     "data": {
      "text/plain": [
       "array([[ -23.10517783,  -66.48133081,   99.55430324,  -85.1354204 ,\n",
       "         -67.99655227],\n",
       "       [  12.75649489,   94.5498255 ,  -33.31916065,  120.57169027,\n",
       "         -98.79923708],\n",
       "       [ -63.07865817,  -68.40287637,  -23.13270506,   12.40539869,\n",
       "        -148.74100362],\n",
       "       [  84.8035021 ,  -32.53176196,  -17.81130852, -133.66482807,\n",
       "         -66.06075784],\n",
       "       [  23.99401179,  115.74288033,  -32.35840564, -130.13828935,\n",
       "         143.63985946]])"
      ]
     },
     "execution_count": 32,
     "metadata": {},
     "output_type": "execute_result"
    }
   ],
   "source": [
    "np.random.randn(5, 5) * 100"
   ]
  },
  {
   "cell_type": "code",
   "execution_count": 33,
   "metadata": {},
   "outputs": [
    {
     "data": {
      "text/plain": [
       "array([164, 174, 140, 177, 190, 114, 102, 166, 124, 189])"
      ]
     },
     "execution_count": 33,
     "metadata": {},
     "output_type": "execute_result"
    }
   ],
   "source": [
    "np.random.randint(100, 200, 10)"
   ]
  },
  {
   "attachments": {},
   "cell_type": "markdown",
   "metadata": {},
   "source": [
    "### Masyvu pertvarka"
   ]
  },
  {
   "cell_type": "code",
   "execution_count": 34,
   "metadata": {},
   "outputs": [
    {
     "data": {
      "text/plain": [
       "array([541, 929, 314, 997, 843, 321, 961, 624, 948, 303, 450, 880, 913,\n",
       "       603, 661, 854, 951, 252, 755, 618, 441, 781, 240, 881, 438, 371,\n",
       "       507, 469, 987, 680, 992, 682, 922, 677, 723, 529, 102, 252, 906,\n",
       "       479, 550, 362, 668, 701, 319, 827, 507, 278, 133, 405, 307, 608,\n",
       "       298, 702, 459, 228, 942, 363, 750, 287, 159, 139, 822, 927])"
      ]
     },
     "execution_count": 34,
     "metadata": {},
     "output_type": "execute_result"
    }
   ],
   "source": [
    "betko_64 = np.random.randint(100, 999, 64)\n",
    "betko_64"
   ]
  },
  {
   "cell_type": "code",
   "execution_count": 35,
   "metadata": {},
   "outputs": [
    {
     "data": {
      "text/plain": [
       "array([[541, 929, 314, 997, 843, 321, 961, 624],\n",
       "       [948, 303, 450, 880, 913, 603, 661, 854],\n",
       "       [951, 252, 755, 618, 441, 781, 240, 881],\n",
       "       [438, 371, 507, 469, 987, 680, 992, 682],\n",
       "       [922, 677, 723, 529, 102, 252, 906, 479],\n",
       "       [550, 362, 668, 701, 319, 827, 507, 278],\n",
       "       [133, 405, 307, 608, 298, 702, 459, 228],\n",
       "       [942, 363, 750, 287, 159, 139, 822, 927]])"
      ]
     },
     "execution_count": 35,
     "metadata": {},
     "output_type": "execute_result"
    }
   ],
   "source": [
    "betko_8x8 = betko_64.reshape(8, 8)\n",
    "betko_8x8"
   ]
  },
  {
   "cell_type": "code",
   "execution_count": 36,
   "metadata": {},
   "outputs": [
    {
     "name": "stdout",
     "output_type": "stream",
     "text": [
      "[[612 347 709 477 810]\n",
      " [780 317 227 476 240]\n",
      " [890 970 196 566 539]\n",
      " [319 802 873 282 950]]\n"
     ]
    }
   ],
   "source": [
    "betko_20 = np.random.randint(100, 999, 20)\n",
    "betko_4x5 = betko_20.reshape(4, 5)\n",
    "print(betko_4x5)"
   ]
  },
  {
   "attachments": {},
   "cell_type": "markdown",
   "metadata": {},
   "source": [
    "### naudingi metodai"
   ]
  },
  {
   "cell_type": "code",
   "execution_count": 38,
   "metadata": {},
   "outputs": [
    {
     "name": "stdout",
     "output_type": "stream",
     "text": [
      "102\n",
      "102\n"
     ]
    }
   ],
   "source": [
    "print(min(betko_64))\n",
    "print(betko_64.min())"
   ]
  },
  {
   "cell_type": "code",
   "execution_count": 39,
   "metadata": {},
   "outputs": [
    {
     "data": {
      "text/plain": [
       "997"
      ]
     },
     "execution_count": 39,
     "metadata": {},
     "output_type": "execute_result"
    }
   ],
   "source": [
    "betko_8x8.max()"
   ]
  },
  {
   "cell_type": "code",
   "execution_count": 47,
   "metadata": {},
   "outputs": [
    {
     "name": "stdout",
     "output_type": "stream",
     "text": [
      "12 196\n"
     ]
    }
   ],
   "source": [
    "print(betko_20.argmin(), betko_20.min())"
   ]
  },
  {
   "cell_type": "code",
   "execution_count": 48,
   "metadata": {},
   "outputs": [
    {
     "data": {
      "text/plain": [
       "3"
      ]
     },
     "execution_count": 48,
     "metadata": {},
     "output_type": "execute_result"
    }
   ],
   "source": [
    "betko_8x8.argmax()"
   ]
  },
  {
   "cell_type": "code",
   "execution_count": 42,
   "metadata": {},
   "outputs": [
    {
     "name": "stdout",
     "output_type": "stream",
     "text": [
      "[[1 1 1 1 1]\n",
      " [1 1 1 1 1]\n",
      " [1 1 1 1 1]\n",
      " [1 1 1 1 1]\n",
      " [1 1 1 1 1]]\n"
     ]
    }
   ],
   "source": [
    "kvadratas = np.zeros((5, 5)).astype(int) + 1\n",
    "print(kvadratas)"
   ]
  },
  {
   "cell_type": "code",
   "execution_count": 46,
   "metadata": {},
   "outputs": [
    {
     "name": "stdout",
     "output_type": "stream",
     "text": [
      "[[[1 1 1 1 1]\n",
      "  [1 1 1 1 1]\n",
      "  [1 1 1 1 1]\n",
      "  [1 1 1 1 1]\n",
      "  [1 1 1 1 1]]\n",
      "\n",
      " [[1 1 1 1 1]\n",
      "  [1 1 1 1 1]\n",
      "  [1 1 1 1 1]\n",
      "  [1 1 1 1 1]\n",
      "  [1 1 1 1 1]]\n",
      "\n",
      " [[1 1 1 1 1]\n",
      "  [1 1 1 1 1]\n",
      "  [1 1 1 1 1]\n",
      "  [1 1 1 1 1]\n",
      "  [1 1 1 1 1]]\n",
      "\n",
      " [[1 1 1 1 1]\n",
      "  [1 1 1 1 1]\n",
      "  [1 1 1 1 1]\n",
      "  [1 1 1 1 1]\n",
      "  [1 1 1 1 1]]\n",
      "\n",
      " [[1 1 1 1 1]\n",
      "  [1 1 1 1 1]\n",
      "  [1 1 1 1 1]\n",
      "  [1 1 1 1 1]\n",
      "  [1 1 1 1 1]]]\n"
     ]
    }
   ],
   "source": [
    "kubas = np.zeros((5, 5, 5)).astype(int) + 1\n",
    "print(kubas)"
   ]
  },
  {
   "cell_type": "code",
   "execution_count": 43,
   "metadata": {},
   "outputs": [
    {
     "data": {
      "text/plain": [
       "(8, 8)"
      ]
     },
     "execution_count": 43,
     "metadata": {},
     "output_type": "execute_result"
    }
   ],
   "source": [
    "betko_8x8.shape"
   ]
  },
  {
   "cell_type": "code",
   "execution_count": 44,
   "metadata": {},
   "outputs": [
    {
     "data": {
      "text/plain": [
       "(20,)"
      ]
     },
     "execution_count": 44,
     "metadata": {},
     "output_type": "execute_result"
    }
   ],
   "source": [
    "betko_20.shape"
   ]
  },
  {
   "cell_type": "code",
   "execution_count": 45,
   "metadata": {},
   "outputs": [
    {
     "data": {
      "text/plain": [
       "dtype('int32')"
      ]
     },
     "execution_count": 45,
     "metadata": {},
     "output_type": "execute_result"
    }
   ],
   "source": [
    "betko_4x5.dtype"
   ]
  },
  {
   "attachments": {},
   "cell_type": "markdown",
   "metadata": {},
   "source": [
    "### indeksacija ir reiksmiu traukimas"
   ]
  },
  {
   "cell_type": "code",
   "execution_count": 49,
   "metadata": {},
   "outputs": [
    {
     "data": {
      "text/plain": [
       "array([612, 347, 709, 477, 810, 780, 317, 227, 476, 240, 890, 970, 196,\n",
       "       566, 539, 319, 802, 873, 282, 950])"
      ]
     },
     "execution_count": 49,
     "metadata": {},
     "output_type": "execute_result"
    }
   ],
   "source": [
    "betko_20"
   ]
  },
  {
   "cell_type": "code",
   "execution_count": 50,
   "metadata": {},
   "outputs": [
    {
     "data": {
      "text/plain": [
       "array([709, 477, 810])"
      ]
     },
     "execution_count": 50,
     "metadata": {},
     "output_type": "execute_result"
    }
   ],
   "source": [
    "betko_20[2:5]"
   ]
  },
  {
   "cell_type": "code",
   "execution_count": 51,
   "metadata": {},
   "outputs": [
    {
     "data": {
      "text/plain": [
       "array([612, 709, 810, 317, 476, 890, 196, 539, 802, 282])"
      ]
     },
     "execution_count": 51,
     "metadata": {},
     "output_type": "execute_result"
    }
   ],
   "source": [
    "betko_20[::2]"
   ]
  },
  {
   "cell_type": "code",
   "execution_count": 53,
   "metadata": {},
   "outputs": [
    {
     "data": {
      "text/plain": [
       "array([612, 347, 709, 477, 810, 780, 317, 227, 476, 240, 890, 970, 196,\n",
       "       566, 539, 777, 802, 873, 282, 950])"
      ]
     },
     "execution_count": 53,
     "metadata": {},
     "output_type": "execute_result"
    }
   ],
   "source": [
    "betko_20[-5] = 777\n",
    "betko_20"
   ]
  },
  {
   "cell_type": "code",
   "execution_count": 55,
   "metadata": {},
   "outputs": [
    {
     "data": {
      "text/plain": [
       "array([[541, 929, 314, 997, 843, 321, 961, 624],\n",
       "       [948, 303, 450, 880, 913, 603, 661, 854],\n",
       "       [951, 252, 755, 618, 441, 781, 240, 881],\n",
       "       [438, 371, 507, 469, 987, 680, 992, 682],\n",
       "       [922, 677, 723, 529, 102, 252, 906, 479],\n",
       "       [550, 362, 668, 701, 319, 827, 507, 278],\n",
       "       [133, 405, 307, 608, 298, 702, 459, 228],\n",
       "       [942, 363, 750, 287, 159, 139, 822, 927]])"
      ]
     },
     "execution_count": 55,
     "metadata": {},
     "output_type": "execute_result"
    }
   ],
   "source": [
    "betko_8x8"
   ]
  },
  {
   "cell_type": "code",
   "execution_count": 57,
   "metadata": {},
   "outputs": [
    {
     "data": {
      "text/plain": [
       "array([755, 618, 441])"
      ]
     },
     "execution_count": 57,
     "metadata": {},
     "output_type": "execute_result"
    }
   ],
   "source": [
    "betko_8x8[2,2:5]"
   ]
  },
  {
   "cell_type": "code",
   "execution_count": 58,
   "metadata": {},
   "outputs": [
    {
     "data": {
      "text/plain": [
       "array([[755, 618, 441, 781],\n",
       "       [507, 469, 987, 680],\n",
       "       [723, 529, 102, 252],\n",
       "       [668, 701, 319, 827]])"
      ]
     },
     "execution_count": 58,
     "metadata": {},
     "output_type": "execute_result"
    }
   ],
   "source": [
    "betko_8x8[2:-2, 2:-2]"
   ]
  },
  {
   "cell_type": "code",
   "execution_count": 60,
   "metadata": {},
   "outputs": [
    {
     "data": {
      "text/plain": [
       "array([[827, 507, 278],\n",
       "       [702, 459, 228],\n",
       "       [139, 822, 927]])"
      ]
     },
     "execution_count": 60,
     "metadata": {},
     "output_type": "execute_result"
    }
   ],
   "source": [
    "betko_8x8[-3:, -3:]"
   ]
  },
  {
   "cell_type": "code",
   "execution_count": 61,
   "metadata": {},
   "outputs": [
    {
     "data": {
      "text/plain": [
       "array([[227, 476, 240],\n",
       "       [196, 566, 539],\n",
       "       [873, 282, 950]])"
      ]
     },
     "execution_count": 61,
     "metadata": {},
     "output_type": "execute_result"
    }
   ],
   "source": [
    "betko_4x5[-3:, -3:]"
   ]
  },
  {
   "attachments": {},
   "cell_type": "markdown",
   "metadata": {},
   "source": [
    "### traukimas pagal salyga"
   ]
  },
  {
   "cell_type": "code",
   "execution_count": 63,
   "metadata": {},
   "outputs": [
    {
     "data": {
      "text/plain": [
       "array([[ True,  True, False,  True,  True, False,  True,  True],\n",
       "       [ True, False, False,  True,  True,  True,  True,  True],\n",
       "       [ True, False,  True,  True, False,  True, False,  True],\n",
       "       [False, False,  True, False,  True,  True,  True,  True],\n",
       "       [ True,  True,  True,  True, False, False,  True, False],\n",
       "       [ True, False,  True,  True, False,  True,  True, False],\n",
       "       [False, False, False,  True, False,  True, False, False],\n",
       "       [ True, False,  True, False, False, False,  True,  True]])"
      ]
     },
     "execution_count": 63,
     "metadata": {},
     "output_type": "execute_result"
    }
   ],
   "source": [
    "tiesa_8x8 = betko_8x8 > 500\n",
    "tiesa_8x8"
   ]
  },
  {
   "cell_type": "code",
   "execution_count": 66,
   "metadata": {},
   "outputs": [],
   "source": [
    "dideli = betko_8x8[tiesa_8x8]"
   ]
  },
  {
   "cell_type": "code",
   "execution_count": 65,
   "metadata": {},
   "outputs": [
    {
     "data": {
      "text/plain": [
       "array([102, 133, 159, 139])"
      ]
     },
     "execution_count": 65,
     "metadata": {},
     "output_type": "execute_result"
    }
   ],
   "source": [
    "betko_8x8[betko_8x8 < 200]"
   ]
  },
  {
   "cell_type": "code",
   "execution_count": 70,
   "metadata": {},
   "outputs": [
    {
     "data": {
      "text/plain": [
       "(38,)"
      ]
     },
     "execution_count": 70,
     "metadata": {},
     "output_type": "execute_result"
    }
   ],
   "source": [
    "dideli.shape"
   ]
  },
  {
   "cell_type": "code",
   "execution_count": 69,
   "metadata": {},
   "outputs": [
    {
     "data": {
      "text/plain": [
       "array([[541, 929],\n",
       "       [997, 843],\n",
       "       [961, 624],\n",
       "       [948, 880],\n",
       "       [913, 603],\n",
       "       [661, 854],\n",
       "       [951, 755],\n",
       "       [618, 781],\n",
       "       [881, 507],\n",
       "       [987, 680],\n",
       "       [992, 682],\n",
       "       [922, 677],\n",
       "       [723, 529],\n",
       "       [906, 550],\n",
       "       [668, 701],\n",
       "       [827, 507],\n",
       "       [608, 702],\n",
       "       [942, 750],\n",
       "       [822, 927]])"
      ]
     },
     "execution_count": 69,
     "metadata": {},
     "output_type": "execute_result"
    }
   ],
   "source": [
    "dideli.reshape(19, 2)"
   ]
  },
  {
   "attachments": {},
   "cell_type": "markdown",
   "metadata": {},
   "source": [
    "### elgsenos ypatumai"
   ]
  },
  {
   "cell_type": "code",
   "execution_count": 92,
   "metadata": {},
   "outputs": [
    {
     "data": {
      "text/plain": [
       "array([612, 347, 709, 477, 810, 999, 999, 999, 999, 999, 999, 999, 999,\n",
       "       999, 999, 777, 802, 873, 282, 950])"
      ]
     },
     "execution_count": 92,
     "metadata": {},
     "output_type": "execute_result"
    }
   ],
   "source": [
    "betko_20"
   ]
  },
  {
   "cell_type": "code",
   "execution_count": 88,
   "metadata": {},
   "outputs": [
    {
     "data": {
      "text/plain": [
       "array([999, 999, 999, 999, 999, 999, 999, 999, 999, 999])"
      ]
     },
     "execution_count": 88,
     "metadata": {},
     "output_type": "execute_result"
    }
   ],
   "source": [
    "ispjova = betko_20[5:-5]\n",
    "ispjova"
   ]
  },
  {
   "cell_type": "code",
   "execution_count": 77,
   "metadata": {},
   "outputs": [],
   "source": [
    "ispjova[:] = 999"
   ]
  },
  {
   "cell_type": "code",
   "execution_count": 78,
   "metadata": {},
   "outputs": [
    {
     "data": {
      "text/plain": [
       "array([612, 347, 709, 477, 810, 999, 999, 999, 999, 999, 999, 999, 999,\n",
       "       999, 999, 777, 802, 873, 282, 950])"
      ]
     },
     "execution_count": 78,
     "metadata": {},
     "output_type": "execute_result"
    }
   ],
   "source": [
    "betko_20"
   ]
  },
  {
   "cell_type": "code",
   "execution_count": 83,
   "metadata": {},
   "outputs": [
    {
     "data": {
      "text/plain": [
       "array([612, 347, 709, 477, 810, 999, 999, 999, 999, 999, 999, 999, 999,\n",
       "       999, 999, 777, 802, 873, 282, 950])"
      ]
     },
     "execution_count": 83,
     "metadata": {},
     "output_type": "execute_result"
    }
   ],
   "source": [
    "kopija = betko_20.copy()\n",
    "kopija"
   ]
  },
  {
   "cell_type": "code",
   "execution_count": 84,
   "metadata": {},
   "outputs": [
    {
     "data": {
      "text/plain": [
       "array([ True,  True,  True,  True,  True,  True,  True,  True,  True,\n",
       "        True,  True,  True,  True,  True,  True,  True,  True,  True,\n",
       "        True,  True])"
      ]
     },
     "execution_count": 84,
     "metadata": {},
     "output_type": "execute_result"
    }
   ],
   "source": [
    "kopija == betko_20"
   ]
  },
  {
   "cell_type": "code",
   "execution_count": 89,
   "metadata": {},
   "outputs": [
    {
     "data": {
      "text/plain": [
       "array([999, 999, 999, 999, 999, 999, 999, 999, 999, 999])"
      ]
     },
     "execution_count": 89,
     "metadata": {},
     "output_type": "execute_result"
    }
   ],
   "source": [
    "kopijos_ispjova = kopija[5:-5]\n",
    "kopijos_ispjova"
   ]
  },
  {
   "cell_type": "code",
   "execution_count": 93,
   "metadata": {},
   "outputs": [],
   "source": [
    "kopijos_ispjova = np.random.randint(100, 999, 10)"
   ]
  },
  {
   "cell_type": "code",
   "execution_count": 95,
   "metadata": {},
   "outputs": [
    {
     "data": {
      "text/plain": [
       "array([612, 347, 709, 477, 810, 999, 999, 999, 999, 999, 999, 999, 999,\n",
       "       999, 999, 777, 802, 873, 282, 950])"
      ]
     },
     "execution_count": 95,
     "metadata": {},
     "output_type": "execute_result"
    }
   ],
   "source": [
    "kopija"
   ]
  },
  {
   "attachments": {},
   "cell_type": "markdown",
   "metadata": {},
   "source": [
    "### Matematines operacijos"
   ]
  },
  {
   "cell_type": "code",
   "execution_count": 96,
   "metadata": {},
   "outputs": [
    {
     "name": "stdout",
     "output_type": "stream",
     "text": [
      "[45 31 92 91  2 33 59 33 58 83] [81 51 60 40 30 16 71 71 75 67]\n"
     ]
    }
   ],
   "source": [
    "pirmi_10 = np.random.randint(0, 99, 10)\n",
    "antri_10 = np.random.randint(0, 99, 10)\n",
    "print(pirmi_10, antri_10)"
   ]
  },
  {
   "cell_type": "code",
   "execution_count": 97,
   "metadata": {},
   "outputs": [
    {
     "data": {
      "text/plain": [
       "array([126,  82, 152, 131,  32,  49, 130, 104, 133, 150])"
      ]
     },
     "execution_count": 97,
     "metadata": {},
     "output_type": "execute_result"
    }
   ],
   "source": [
    "sudetis = pirmi_10 + antri_10\n",
    "sudetis"
   ]
  },
  {
   "cell_type": "code",
   "execution_count": 98,
   "metadata": {},
   "outputs": [
    {
     "data": {
      "text/plain": [
       "array([3645, 1581, 5520, 3640,   60,  528, 4189, 2343, 4350, 5561])"
      ]
     },
     "execution_count": 98,
     "metadata": {},
     "output_type": "execute_result"
    }
   ],
   "source": [
    "daugyba = pirmi_10 * antri_10\n",
    "daugyba"
   ]
  },
  {
   "cell_type": "code",
   "execution_count": 99,
   "metadata": {},
   "outputs": [
    {
     "data": {
      "text/plain": [
       "array([ 1.8       ,  1.64516129,  0.65217391,  0.43956044, 15.        ,\n",
       "        0.48484848,  1.20338983,  2.15151515,  1.29310345,  0.80722892])"
      ]
     },
     "execution_count": 99,
     "metadata": {},
     "output_type": "execute_result"
    }
   ],
   "source": [
    "dalyba = antri_10 / pirmi_10\n",
    "dalyba"
   ]
  },
  {
   "cell_type": "code",
   "execution_count": 102,
   "metadata": {},
   "outputs": [
    {
     "data": {
      "text/plain": [
       "array([ -655691255, -1796951359,  1158676480,   270703673,        1024,\n",
       "       -2057521855, -1489217927, -2057521855,  -939809792, -1816383223],\n",
       "      dtype=int32)"
      ]
     },
     "execution_count": 102,
     "metadata": {},
     "output_type": "execute_result"
    }
   ],
   "source": [
    "kubu = pirmi_10 ** 10\n",
    "kubu"
   ]
  },
  {
   "cell_type": "code",
   "execution_count": 103,
   "metadata": {},
   "outputs": [
    {
     "data": {
      "text/plain": [
       "array([ 0.85090352, -0.40403765, -0.77946607,  0.10598751,  0.90929743,\n",
       "        0.99991186,  0.63673801,  0.99991186,  0.99287265,  0.96836446])"
      ]
     },
     "execution_count": 103,
     "metadata": {},
     "output_type": "execute_result"
    }
   ],
   "source": [
    "np.sin(pirmi_10)"
   ]
  },
  {
   "cell_type": "code",
   "execution_count": 104,
   "metadata": {},
   "outputs": [
    {
     "data": {
      "text/plain": [
       "array([3.80666249, 3.4339872 , 4.52178858, 4.51085951, 0.69314718,\n",
       "       3.49650756, 4.07753744, 3.49650756, 4.06044301, 4.41884061])"
      ]
     },
     "execution_count": 104,
     "metadata": {},
     "output_type": "execute_result"
    }
   ],
   "source": [
    "np.log(pirmi_10)"
   ]
  }
 ],
 "metadata": {
  "kernelspec": {
   "display_name": "venv",
   "language": "python",
   "name": "python3"
  },
  "language_info": {
   "codemirror_mode": {
    "name": "ipython",
    "version": 3
   },
   "file_extension": ".py",
   "mimetype": "text/x-python",
   "name": "python",
   "nbconvert_exporter": "python",
   "pygments_lexer": "ipython3",
   "version": "3.10.9"
  },
  "orig_nbformat": 4,
  "vscode": {
   "interpreter": {
    "hash": "08bae27fbc2065aa25fe2108e354d6045754cf7d7a8f1b5967b220349239ef2b"
   }
  }
 },
 "nbformat": 4,
 "nbformat_minor": 2
}
